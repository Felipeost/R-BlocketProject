{
 "cells": [
  {
   "cell_type": "code",
   "execution_count": 39,
   "id": "f7c55549-c2df-4017-b67b-80b77f9006f0",
   "metadata": {},
   "outputs": [],
   "source": [
    "# Importing libraries\n",
    "library(readxl)\n",
    "library(dplyr)\n",
    "library(fastDummies)\n",
    "library(MASS)"
   ]
  },
  {
   "cell_type": "code",
   "execution_count": 40,
   "id": "f869e2e9-e15c-468f-b0d0-e6121f5e6584",
   "metadata": {},
   "outputs": [],
   "source": [
    "# Importing the data into a dataframe\n",
    "file_path <- \"C:/Users/filip/Documents/EC/R/R kunskapskontroll/Blocket_Data_Group1_excel.xlsx\"\n",
    "car_data <- read_excel(file_path)"
   ]
  },
  {
   "cell_type": "code",
   "execution_count": 41,
   "id": "58d4dcf7-6429-4641-b1d3-12bc15693094",
   "metadata": {},
   "outputs": [
    {
     "data": {
      "text/html": [
       "<table>\n",
       "<thead><tr><th scope=col>Pris</th><th scope=col>Län</th><th scope=col>Stad</th><th scope=col>Bränsle</th><th scope=col>Växellåda</th><th scope=col>Miltal</th><th scope=col>Modellår</th><th scope=col>Biltyp</th><th scope=col>Drivning</th><th scope=col>Hästkrafter</th><th scope=col>Färg</th><th scope=col>Motorstorlek</th><th scope=col>Datum i trafik</th><th scope=col>Märke</th><th scope=col>Modell</th></tr></thead>\n",
       "<tbody>\n",
       "\t<tr><td>169900          </td><td>Kalmar          </td><td>Kalmar          </td><td>Bensin          </td><td>Automat         </td><td> 1111           </td><td>2018            </td><td>SUV             </td><td>Tvåhjulsdriven  </td><td>1197            </td><td>Silver          </td><td>1197            </td><td>43278           </td><td>Renault         </td><td>Captur          </td></tr>\n",
       "\t<tr><td>499900          </td><td>Skåne           </td><td>Vellinge        </td><td>El              </td><td>Automat         </td><td> 1750           </td><td>2021            </td><td>SUV             </td><td>Fyrhjulsdriven  </td><td> 514            </td><td>Vit             </td><td>NULL            </td><td>44540           </td><td>Tesla           </td><td>Model Y         </td></tr>\n",
       "\t<tr><td>469900          </td><td>Västra Götalands</td><td>Hisingen        </td><td>El              </td><td>Automat         </td><td> 7930           </td><td>2022            </td><td>SUV             </td><td>Fyrhjulsdriven  </td><td> 514            </td><td>Grå             </td><td>NULL            </td><td>44639           </td><td>Tesla           </td><td>Model Y         </td></tr>\n",
       "\t<tr><td>459000          </td><td>Skåne           </td><td>Malmö           </td><td>Bensin          </td><td>Automat         </td><td>17400           </td><td>2018            </td><td>SUV             </td><td>Fyrhjulsdriven  </td><td> 510            </td><td>Röd             </td><td>2891            </td><td>43231           </td><td>Alfa Romeo      </td><td>Stelvio         </td></tr>\n",
       "\t<tr><td>459000          </td><td>Dalarna         </td><td>Borlänge        </td><td>Bensin          </td><td>Automat         </td><td> 8900           </td><td>2017            </td><td>Sedan           </td><td>Fyrhjulsdriven  </td><td> 449            </td><td>Svart           </td><td>4395            </td><td>42923           </td><td>BMW             </td><td>750             </td></tr>\n",
       "\t<tr><td>414900          </td><td>Stockholm       </td><td>Botkyrka        </td><td>El              </td><td>Automat         </td><td> 4200           </td><td>2021            </td><td>Sedan           </td><td>Tvåhjulsdriven  </td><td> 441            </td><td>Vit             </td><td>NULL            </td><td>44243           </td><td>Tesla           </td><td>Model 3         </td></tr>\n",
       "</tbody>\n",
       "</table>\n"
      ],
      "text/latex": [
       "\\begin{tabular}{r|lllllllllllllll}\n",
       " Pris & Län & Stad & Bränsle & Växellåda & Miltal & Modellår & Biltyp & Drivning & Hästkrafter & Färg & Motorstorlek & Datum i trafik & Märke & Modell\\\\\n",
       "\\hline\n",
       "\t 169900           & Kalmar           & Kalmar           & Bensin           & Automat          &  1111            & 2018             & SUV              & Tvåhjulsdriven   & 1197             & Silver           & 1197             & 43278            & Renault          & Captur          \\\\\n",
       "\t 499900           & Skåne            & Vellinge         & El               & Automat          &  1750            & 2021             & SUV              & Fyrhjulsdriven   &  514             & Vit              & NULL             & 44540            & Tesla            & Model Y         \\\\\n",
       "\t 469900           & Västra Götalands & Hisingen         & El               & Automat          &  7930            & 2022             & SUV              & Fyrhjulsdriven   &  514             & Grå              & NULL             & 44639            & Tesla            & Model Y         \\\\\n",
       "\t 459000           & Skåne            & Malmö            & Bensin           & Automat          & 17400            & 2018             & SUV              & Fyrhjulsdriven   &  510             & Röd              & 2891             & 43231            & Alfa Romeo       & Stelvio         \\\\\n",
       "\t 459000           & Dalarna          & Borlänge         & Bensin           & Automat          &  8900            & 2017             & Sedan            & Fyrhjulsdriven   &  449             & Svart            & 4395             & 42923            & BMW              & 750             \\\\\n",
       "\t 414900           & Stockholm        & Botkyrka         & El               & Automat          &  4200            & 2021             & Sedan            & Tvåhjulsdriven   &  441             & Vit              & NULL             & 44243            & Tesla            & Model 3         \\\\\n",
       "\\end{tabular}\n"
      ],
      "text/markdown": [
       "\n",
       "| Pris | Län | Stad | Bränsle | Växellåda | Miltal | Modellår | Biltyp | Drivning | Hästkrafter | Färg | Motorstorlek | Datum i trafik | Märke | Modell |\n",
       "|---|---|---|---|---|---|---|---|---|---|---|---|---|---|---|\n",
       "| 169900           | Kalmar           | Kalmar           | Bensin           | Automat          |  1111            | 2018             | SUV              | Tvåhjulsdriven   | 1197             | Silver           | 1197             | 43278            | Renault          | Captur           |\n",
       "| 499900           | Skåne            | Vellinge         | El               | Automat          |  1750            | 2021             | SUV              | Fyrhjulsdriven   |  514             | Vit              | NULL             | 44540            | Tesla            | Model Y          |\n",
       "| 469900           | Västra Götalands | Hisingen         | El               | Automat          |  7930            | 2022             | SUV              | Fyrhjulsdriven   |  514             | Grå              | NULL             | 44639            | Tesla            | Model Y          |\n",
       "| 459000           | Skåne            | Malmö            | Bensin           | Automat          | 17400            | 2018             | SUV              | Fyrhjulsdriven   |  510             | Röd              | 2891             | 43231            | Alfa Romeo       | Stelvio          |\n",
       "| 459000           | Dalarna          | Borlänge         | Bensin           | Automat          |  8900            | 2017             | Sedan            | Fyrhjulsdriven   |  449             | Svart            | 4395             | 42923            | BMW              | 750              |\n",
       "| 414900           | Stockholm        | Botkyrka         | El               | Automat          |  4200            | 2021             | Sedan            | Tvåhjulsdriven   |  441             | Vit              | NULL             | 44243            | Tesla            | Model 3          |\n",
       "\n"
      ],
      "text/plain": [
       "  Pris   Län              Stad     Bränsle Växellåda Miltal Modellår Biltyp\n",
       "1 169900 Kalmar           Kalmar   Bensin  Automat    1111  2018     SUV   \n",
       "2 499900 Skåne            Vellinge El      Automat    1750  2021     SUV   \n",
       "3 469900 Västra Götalands Hisingen El      Automat    7930  2022     SUV   \n",
       "4 459000 Skåne            Malmö    Bensin  Automat   17400  2018     SUV   \n",
       "5 459000 Dalarna          Borlänge Bensin  Automat    8900  2017     Sedan \n",
       "6 414900 Stockholm        Botkyrka El      Automat    4200  2021     Sedan \n",
       "  Drivning       Hästkrafter Färg   Motorstorlek Datum i trafik Märke     \n",
       "1 Tvåhjulsdriven 1197        Silver 1197         43278          Renault   \n",
       "2 Fyrhjulsdriven  514        Vit    NULL         44540          Tesla     \n",
       "3 Fyrhjulsdriven  514        Grå    NULL         44639          Tesla     \n",
       "4 Fyrhjulsdriven  510        Röd    2891         43231          Alfa Romeo\n",
       "5 Fyrhjulsdriven  449        Svart  4395         42923          BMW       \n",
       "6 Tvåhjulsdriven  441        Vit    NULL         44243          Tesla     \n",
       "  Modell \n",
       "1 Captur \n",
       "2 Model Y\n",
       "3 Model Y\n",
       "4 Stelvio\n",
       "5 750    \n",
       "6 Model 3"
      ]
     },
     "metadata": {},
     "output_type": "display_data"
    },
    {
     "name": "stdout",
     "output_type": "stream",
     "text": [
      "Classes 'tbl_df', 'tbl' and 'data.frame':\t695 obs. of  15 variables:\n",
      " $ Pris          : num  169900 499900 469900 459000 459000 ...\n",
      " $ Län           : chr  \"Kalmar\" \"Skåne\" \"Västra Götalands\" \"Skåne\" ...\n",
      " $ Stad          : chr  \"Kalmar\" \"Vellinge\" \"Hisingen\" \"Malmö\" ...\n",
      " $ Bränsle       : chr  \"Bensin\" \"El\" \"El\" \"Bensin\" ...\n",
      " $ Växellåda     : chr  \"Automat\" \"Automat\" \"Automat\" \"Automat\" ...\n",
      " $ Miltal        : num  1111 1750 7930 17400 8900 ...\n",
      " $ Modellår      : num  2018 2021 2022 2018 2017 ...\n",
      " $ Biltyp        : chr  \"SUV\" \"SUV\" \"SUV\" \"SUV\" ...\n",
      " $ Drivning      : chr  \"Tvåhjulsdriven\" \"Fyrhjulsdriven\" \"Fyrhjulsdriven\" \"Fyrhjulsdriven\" ...\n",
      " $ Hästkrafter   : num  1197 514 514 510 449 ...\n",
      " $ Färg          : chr  \"Silver\" \"Vit\" \"Grå\" \"Röd\" ...\n",
      " $ Motorstorlek  : chr  \"1197\" \"NULL\" \"NULL\" \"2891\" ...\n",
      " $ Datum i trafik: chr  \"43278\" \"44540\" \"44639\" \"43231\" ...\n",
      " $ Märke         : chr  \"Renault\" \"Tesla\" \"Tesla\" \"Alfa Romeo\" ...\n",
      " $ Modell        : chr  \"Captur\" \"Model Y\" \"Model Y\" \"Stelvio\" ...\n"
     ]
    },
    {
     "data": {
      "text/plain": [
       "      Pris            Län                Stad             Bränsle         \n",
       " Min.   :100000   Length:695         Length:695         Length:695        \n",
       " 1st Qu.:174900   Class :character   Class :character   Class :character  \n",
       " Median :238900   Mode  :character   Mode  :character   Mode  :character  \n",
       " Mean   :252146                                                           \n",
       " 3rd Qu.:309900                                                           \n",
       " Max.   :499900                                                           \n",
       "  Växellåda             Miltal         Modellår       Biltyp         \n",
       " Length:695         Min.   :    0   Min.   :1972   Length:695        \n",
       " Class :character   1st Qu.: 3904   1st Qu.:2016   Class :character  \n",
       " Mode  :character   Median : 8174   Median :2019   Mode  :character  \n",
       "                    Mean   : 8694   Mean   :2018                     \n",
       "                    3rd Qu.:12770   3rd Qu.:2021                     \n",
       "                    Max.   :29241   Max.   :2024                     \n",
       "   Drivning          Hästkrafter         Färg           Motorstorlek      \n",
       " Length:695         Min.   :  67.0   Length:695         Length:695        \n",
       " Class :character   1st Qu.: 131.0   Class :character   Class :character  \n",
       " Mode  :character   Median : 170.0   Mode  :character   Mode  :character  \n",
       "                    Mean   : 181.6                                        \n",
       "                    3rd Qu.: 204.0                                        \n",
       "                    Max.   :1197.0                                        \n",
       " Datum i trafik        Märke              Modell         \n",
       " Length:695         Length:695         Length:695        \n",
       " Class :character   Class :character   Class :character  \n",
       " Mode  :character   Mode  :character   Mode  :character  \n",
       "                                                         \n",
       "                                                         \n",
       "                                                         "
      ]
     },
     "metadata": {},
     "output_type": "display_data"
    }
   ],
   "source": [
    "# Viewing the data\n",
    "head(car_data)\n",
    "str(car_data)\n",
    "summary(car_data)"
   ]
  },
  {
   "cell_type": "code",
   "execution_count": 42,
   "id": "5bfbcf6f-d7be-4181-b3d8-c6628780f866",
   "metadata": {},
   "outputs": [
    {
     "data": {
      "text/html": [
       "<table>\n",
       "<thead><tr><th scope=col>Pris</th><th scope=col>Län</th><th scope=col>Bränsle</th><th scope=col>Växellåda</th><th scope=col>Miltal</th><th scope=col>Modellår</th><th scope=col>Biltyp</th><th scope=col>Drivning</th><th scope=col>Hästkrafter</th><th scope=col>Färg</th><th scope=col>Märke</th></tr></thead>\n",
       "<tbody>\n",
       "\t<tr><td>169900          </td><td>Kalmar          </td><td>Bensin          </td><td>Automat         </td><td> 1111           </td><td>2018            </td><td>SUV             </td><td>Tvåhjulsdriven  </td><td>1197            </td><td>Silver          </td><td>Renault         </td></tr>\n",
       "\t<tr><td>499900          </td><td>Skåne           </td><td>El              </td><td>Automat         </td><td> 1750           </td><td>2021            </td><td>SUV             </td><td>Fyrhjulsdriven  </td><td> 514            </td><td>Vit             </td><td>Tesla           </td></tr>\n",
       "\t<tr><td>469900          </td><td>Västra Götalands</td><td>El              </td><td>Automat         </td><td> 7930           </td><td>2022            </td><td>SUV             </td><td>Fyrhjulsdriven  </td><td> 514            </td><td>Grå             </td><td>Tesla           </td></tr>\n",
       "\t<tr><td>459000          </td><td>Skåne           </td><td>Bensin          </td><td>Automat         </td><td>17400           </td><td>2018            </td><td>SUV             </td><td>Fyrhjulsdriven  </td><td> 510            </td><td>Röd             </td><td>Alfa Romeo      </td></tr>\n",
       "\t<tr><td>459000          </td><td>Dalarna         </td><td>Bensin          </td><td>Automat         </td><td> 8900           </td><td>2017            </td><td>Sedan           </td><td>Fyrhjulsdriven  </td><td> 449            </td><td>Svart           </td><td>BMW             </td></tr>\n",
       "\t<tr><td>414900          </td><td>Stockholm       </td><td>El              </td><td>Automat         </td><td> 4200           </td><td>2021            </td><td>Sedan           </td><td>Tvåhjulsdriven  </td><td> 441            </td><td>Vit             </td><td>Tesla           </td></tr>\n",
       "</tbody>\n",
       "</table>\n"
      ],
      "text/latex": [
       "\\begin{tabular}{r|lllllllllll}\n",
       " Pris & Län & Bränsle & Växellåda & Miltal & Modellår & Biltyp & Drivning & Hästkrafter & Färg & Märke\\\\\n",
       "\\hline\n",
       "\t 169900           & Kalmar           & Bensin           & Automat          &  1111            & 2018             & SUV              & Tvåhjulsdriven   & 1197             & Silver           & Renault         \\\\\n",
       "\t 499900           & Skåne            & El               & Automat          &  1750            & 2021             & SUV              & Fyrhjulsdriven   &  514             & Vit              & Tesla           \\\\\n",
       "\t 469900           & Västra Götalands & El               & Automat          &  7930            & 2022             & SUV              & Fyrhjulsdriven   &  514             & Grå              & Tesla           \\\\\n",
       "\t 459000           & Skåne            & Bensin           & Automat          & 17400            & 2018             & SUV              & Fyrhjulsdriven   &  510             & Röd              & Alfa Romeo      \\\\\n",
       "\t 459000           & Dalarna          & Bensin           & Automat          &  8900            & 2017             & Sedan            & Fyrhjulsdriven   &  449             & Svart            & BMW             \\\\\n",
       "\t 414900           & Stockholm        & El               & Automat          &  4200            & 2021             & Sedan            & Tvåhjulsdriven   &  441             & Vit              & Tesla           \\\\\n",
       "\\end{tabular}\n"
      ],
      "text/markdown": [
       "\n",
       "| Pris | Län | Bränsle | Växellåda | Miltal | Modellår | Biltyp | Drivning | Hästkrafter | Färg | Märke |\n",
       "|---|---|---|---|---|---|---|---|---|---|---|\n",
       "| 169900           | Kalmar           | Bensin           | Automat          |  1111            | 2018             | SUV              | Tvåhjulsdriven   | 1197             | Silver           | Renault          |\n",
       "| 499900           | Skåne            | El               | Automat          |  1750            | 2021             | SUV              | Fyrhjulsdriven   |  514             | Vit              | Tesla            |\n",
       "| 469900           | Västra Götalands | El               | Automat          |  7930            | 2022             | SUV              | Fyrhjulsdriven   |  514             | Grå              | Tesla            |\n",
       "| 459000           | Skåne            | Bensin           | Automat          | 17400            | 2018             | SUV              | Fyrhjulsdriven   |  510             | Röd              | Alfa Romeo       |\n",
       "| 459000           | Dalarna          | Bensin           | Automat          |  8900            | 2017             | Sedan            | Fyrhjulsdriven   |  449             | Svart            | BMW              |\n",
       "| 414900           | Stockholm        | El               | Automat          |  4200            | 2021             | Sedan            | Tvåhjulsdriven   |  441             | Vit              | Tesla            |\n",
       "\n"
      ],
      "text/plain": [
       "  Pris   Län              Bränsle Växellåda Miltal Modellår Biltyp\n",
       "1 169900 Kalmar           Bensin  Automat    1111  2018     SUV   \n",
       "2 499900 Skåne            El      Automat    1750  2021     SUV   \n",
       "3 469900 Västra Götalands El      Automat    7930  2022     SUV   \n",
       "4 459000 Skåne            Bensin  Automat   17400  2018     SUV   \n",
       "5 459000 Dalarna          Bensin  Automat    8900  2017     Sedan \n",
       "6 414900 Stockholm        El      Automat    4200  2021     Sedan \n",
       "  Drivning       Hästkrafter Färg   Märke     \n",
       "1 Tvåhjulsdriven 1197        Silver Renault   \n",
       "2 Fyrhjulsdriven  514        Vit    Tesla     \n",
       "3 Fyrhjulsdriven  514        Grå    Tesla     \n",
       "4 Fyrhjulsdriven  510        Röd    Alfa Romeo\n",
       "5 Fyrhjulsdriven  449        Svart  BMW       \n",
       "6 Tvåhjulsdriven  441        Vit    Tesla     "
      ]
     },
     "metadata": {},
     "output_type": "display_data"
    },
    {
     "data": {
      "text/plain": [
       "      Pris            Län              Bränsle           Växellåda        \n",
       " Min.   :100000   Length:695         Length:695         Length:695        \n",
       " 1st Qu.:174900   Class :character   Class :character   Class :character  \n",
       " Median :238900   Mode  :character   Mode  :character   Mode  :character  \n",
       " Mean   :252146                                                           \n",
       " 3rd Qu.:309900                                                           \n",
       " Max.   :499900                                                           \n",
       "     Miltal         Modellår       Biltyp            Drivning        \n",
       " Min.   :    0   Min.   :1972   Length:695         Length:695        \n",
       " 1st Qu.: 3904   1st Qu.:2016   Class :character   Class :character  \n",
       " Median : 8174   Median :2019   Mode  :character   Mode  :character  \n",
       " Mean   : 8694   Mean   :2018                                        \n",
       " 3rd Qu.:12770   3rd Qu.:2021                                        \n",
       " Max.   :29241   Max.   :2024                                        \n",
       "  Hästkrafter         Färg              Märke          \n",
       " Min.   :  67.0   Length:695         Length:695        \n",
       " 1st Qu.: 131.0   Class :character   Class :character  \n",
       " Median : 170.0   Mode  :character   Mode  :character  \n",
       " Mean   : 181.6                                        \n",
       " 3rd Qu.: 204.0                                        \n",
       " Max.   :1197.0                                        "
      ]
     },
     "metadata": {},
     "output_type": "display_data"
    }
   ],
   "source": [
    "# Removing the columns that I believe will not affect the price\n",
    "car_data_cut <- dplyr::select(car_data, -Stad, -Motorstorlek, -\"Datum i trafik\", -Modell)\n",
    "head(car_data_cut)\n",
    "summary(car_data_cut)"
   ]
  },
  {
   "cell_type": "code",
   "execution_count": 43,
   "id": "59feeb0b-34fc-41c1-a601-cd3e0cdaa72e",
   "metadata": {},
   "outputs": [
    {
     "data": {
      "image/png": "[encoded data removed]",
      "text/plain": [
       "plot without title"
      ]
     },
     "metadata": {},
     "output_type": "display_data"
    }
   ],
   "source": [
    "#Inspecting numeric data\n",
    "car_numeric <- car_data_cut[, sapply(car_data_cut, is.numeric)]\n",
    "\n",
    "options(repr.plot.width = 8, repr.plot.height = 6)\n",
    "pairs(car_numeric, pch = 16)"
   ]
  },
  {
   "cell_type": "code",
   "execution_count": 44,
   "id": "110b178d-8e9d-4c7b-8584-f274d2e7ac9a",
   "metadata": {},
   "outputs": [
    {
     "data": {
      "image/png": "[encoded data removed]",
      "text/plain": [
       "plot without title"
      ]
     },
     "metadata": {},
     "output_type": "display_data"
    }
   ],
   "source": [
    "# Filtering out the outliers\n",
    "z_scores <- scale(car_numeric)\n",
    "threshold <- 2\n",
    "outlier_rows <- apply(abs(z_scores) > threshold, 1, any)\n",
    "car_data_filtered <- car_data_cut[!outlier_rows, ]\n",
    "pairs(car_data_filtered[, sapply(car_data_filtered, is.numeric)], pch = 16)"
   ]
  },
  {
   "cell_type": "code",
   "execution_count": 45,
   "id": "346cdb5d-bc3b-4fbd-888f-a26cc57fc83a",
   "metadata": {},
   "outputs": [
    {
     "name": "stdout",
     "output_type": "stream",
     "text": [
      "Classes 'tbl_df', 'tbl' and 'data.frame':\t606 obs. of  60 variables:\n",
      " $ Pris                       : num  369900 355000 425000 389900 379800 ...\n",
      " $ Miltal                     : num  18495 9990 11055 13773 2694 ...\n",
      " $ Modellår                   : num  2014 2021 2015 2018 2021 ...\n",
      " $ Hästkrafter                : num  340 340 340 334 326 325 313 313 306 306 ...\n",
      " $ Län_Gotland                : int  0 0 0 0 0 0 0 0 0 0 ...\n",
      " $ Län_Jönköping              : int  0 0 0 0 0 0 0 0 0 0 ...\n",
      " $ Län_Kalmar                 : int  0 0 0 0 0 0 0 0 0 0 ...\n",
      " $ Län_Östergötland           : int  0 0 0 0 0 0 1 0 0 1 ...\n",
      " $ Län_Skåne                  : int  0 0 1 0 1 0 0 0 0 0 ...\n",
      " $ Län_Stockholm              : int  1 0 0 0 0 1 0 0 1 0 ...\n",
      " $ Län_Västra Götalands       : int  0 0 0 1 0 0 0 1 0 0 ...\n",
      " $ Bränsle_Diesel             : int  1 0 0 0 0 0 1 0 0 0 ...\n",
      " $ Bränsle_El                 : int  0 0 0 0 1 1 0 0 0 0 ...\n",
      " $ Bränsle_Miljöbränsle/Hybrid: int  0 1 0 0 0 0 0 1 0 0 ...\n",
      " $ Växellåda_Manuell          : int  0 0 0 0 0 0 0 0 0 0 ...\n",
      " $ Biltyp_Coupé               : int  0 0 0 0 0 0 0 0 1 0 ...\n",
      " $ Biltyp_Halvkombi           : int  0 0 0 0 0 0 0 0 0 0 ...\n",
      " $ Biltyp_Kombi               : int  0 1 0 0 0 0 0 0 0 1 ...\n",
      " $ Biltyp_Sedan               : int  0 0 0 0 1 1 0 0 0 0 ...\n",
      " $ Biltyp_SUV                 : int  1 0 1 1 0 0 1 1 0 0 ...\n",
      " $ Drivning_Tvåhjulsdriven    : int  0 0 0 0 1 1 0 0 0 0 ...\n",
      " $ Färg_Brun                  : int  0 0 0 0 0 0 1 0 0 0 ...\n",
      " $ Färg_Grå                   : int  1 0 0 0 0 0 0 0 0 0 ...\n",
      " $ Färg_Grön                  : int  0 0 0 0 0 0 0 0 0 0 ...\n",
      " $ Färg_Orange                : int  0 0 0 0 0 0 0 0 0 0 ...\n",
      " $ Färg_Röd                   : int  0 0 0 0 0 0 0 0 1 1 ...\n",
      " $ Färg_Silver                : int  0 0 0 0 0 0 0 0 0 0 ...\n",
      " $ Färg_Svart                 : int  0 0 1 0 0 0 0 1 0 0 ...\n",
      " $ Färg_Vit                   : int  0 0 0 0 1 1 0 0 0 0 ...\n",
      " $ Märke_Audi                 : int  0 0 0 0 0 0 0 0 0 0 ...\n",
      " $ Märke_BMW                  : int  0 0 0 0 0 0 1 0 1 0 ...\n",
      " $ Märke_Citroën              : int  0 0 0 0 0 0 0 0 0 0 ...\n",
      " $ Märke_Cupra                : int  0 0 0 0 0 0 0 0 0 0 ...\n",
      " $ Märke_Dacia                : int  0 0 0 0 0 0 0 0 0 0 ...\n",
      " $ Märke_Fiat                 : int  0 0 0 0 0 0 0 0 0 0 ...\n",
      " $ Märke_Ford                 : int  0 0 0 0 0 0 0 0 0 0 ...\n",
      " $ Märke_Honda                : int  0 0 0 0 0 0 0 0 0 0 ...\n",
      " $ Märke_Hyundai              : int  0 0 0 0 0 0 0 0 0 0 ...\n",
      " $ Märke_Jaguar               : int  0 0 0 0 0 0 0 0 0 0 ...\n",
      " $ Märke_Jeep                 : int  0 0 0 0 0 0 0 0 0 0 ...\n",
      " $ Märke_Kia                  : int  0 0 0 0 0 0 0 0 0 0 ...\n",
      " $ Märke_Land Rover           : int  1 0 0 0 0 0 0 0 0 0 ...\n",
      " $ Märke_Lexus                : int  0 0 0 0 0 0 0 1 0 0 ...\n",
      " $ Märke_Mazda                : int  0 0 0 0 0 0 0 0 0 0 ...\n",
      " $ Märke_Mercedes-Benz        : int  0 0 0 1 0 0 0 0 0 0 ...\n",
      " $ Märke_MINI                 : int  0 0 0 0 0 0 0 0 0 1 ...\n",
      " $ Märke_Mitsubishi           : int  0 0 0 0 0 0 0 0 0 0 ...\n",
      " $ Märke_Nissan               : int  0 0 0 0 0 0 0 0 0 0 ...\n",
      " $ Märke_Opel                 : int  0 0 0 0 0 0 0 0 0 0 ...\n",
      " $ Märke_Peugeot              : int  0 0 0 0 0 0 0 0 0 0 ...\n",
      " $ Märke_Porsche              : int  0 0 1 0 0 0 0 0 0 0 ...\n",
      " $ Märke_Renault              : int  0 0 0 0 0 0 0 0 0 0 ...\n",
      " $ Märke_Seat                 : int  0 0 0 0 0 0 0 0 0 0 ...\n",
      " $ Märke_Skoda                : int  0 0 0 0 0 0 0 0 0 0 ...\n",
      " $ Märke_Subaru               : int  0 0 0 0 0 0 0 0 0 0 ...\n",
      " $ Märke_Suzuki               : int  0 0 0 0 0 0 0 0 0 0 ...\n",
      " $ Märke_Tesla                : int  0 0 0 0 1 1 0 0 0 0 ...\n",
      " $ Märke_Toyota               : int  0 0 0 0 0 0 0 0 0 0 ...\n",
      " $ Märke_Volkswagen           : int  0 0 0 0 0 0 0 0 0 0 ...\n",
      " $ Märke_Volvo                : int  0 1 0 0 0 0 0 0 0 0 ...\n"
     ]
    },
    {
     "data": {
      "text/plain": [
       "      Pris            Miltal         Modellår     Hästkrafter   \n",
       " Min.   :100000   Min.   :    0   Min.   :2011   Min.   : 67.0  \n",
       " 1st Qu.:178925   1st Qu.: 3922   1st Qu.:2017   1st Qu.:124.0  \n",
       " Median :234450   Median : 7956   Median :2019   Median :159.0  \n",
       " Mean   :241725   Mean   : 8340   Mean   :2019   Mean   :166.7  \n",
       " 3rd Qu.:299000   3rd Qu.:12226   3rd Qu.:2021   3rd Qu.:192.0  \n",
       " Max.   :439900   Max.   :19924   Max.   :2024   Max.   :340.0  \n",
       "  Län_Gotland     Län_Jönköping       Län_Kalmar      Län_Östergötland\n",
       " Min.   :0.0000   Min.   :0.00000   Min.   :0.00000   Min.   :0.0000  \n",
       " 1st Qu.:0.0000   1st Qu.:0.00000   1st Qu.:0.00000   1st Qu.:0.0000  \n",
       " Median :0.0000   Median :0.00000   Median :0.00000   Median :0.0000  \n",
       " Mean   :0.0198   Mean   :0.05446   Mean   :0.07591   Mean   :0.1518  \n",
       " 3rd Qu.:0.0000   3rd Qu.:0.00000   3rd Qu.:0.00000   3rd Qu.:0.0000  \n",
       " Max.   :1.0000   Max.   :1.00000   Max.   :1.00000   Max.   :1.0000  \n",
       "   Län_Skåne     Län_Stockholm    Län_Västra Götalands Bränsle_Diesel \n",
       " Min.   :0.000   Min.   :0.0000   Min.   :0.0000       Min.   :0.000  \n",
       " 1st Qu.:0.000   1st Qu.:0.0000   1st Qu.:0.0000       1st Qu.:0.000  \n",
       " Median :0.000   Median :0.0000   Median :0.0000       Median :0.000  \n",
       " Mean   :0.137   Mean   :0.1502   Mean   :0.1469       Mean   :0.363  \n",
       " 3rd Qu.:0.000   3rd Qu.:0.0000   3rd Qu.:0.0000       3rd Qu.:1.000  \n",
       " Max.   :1.000   Max.   :1.0000   Max.   :1.0000       Max.   :1.000  \n",
       "   Bränsle_El      Bränsle_Miljöbränsle/Hybrid Växellåda_Manuell\n",
       " Min.   :0.00000   Min.   :0.0000              Min.   :0.0000   \n",
       " 1st Qu.:0.00000   1st Qu.:0.0000              1st Qu.:0.0000   \n",
       " Median :0.00000   Median :0.0000              Median :0.0000   \n",
       " Mean   :0.08581   Mean   :0.1799              Mean   :0.1964   \n",
       " 3rd Qu.:0.00000   3rd Qu.:0.0000              3rd Qu.:0.0000   \n",
       " Max.   :1.00000   Max.   :1.0000              Max.   :1.0000   \n",
       "  Biltyp_Coupé    Biltyp_Halvkombi  Biltyp_Kombi     Biltyp_Sedan    \n",
       " Min.   :0.0000   Min.   :0.0000   Min.   :0.0000   Min.   :0.00000  \n",
       " 1st Qu.:0.0000   1st Qu.:0.0000   1st Qu.:0.0000   1st Qu.:0.00000  \n",
       " Median :0.0000   Median :0.0000   Median :0.0000   Median :0.00000  \n",
       " Mean   :0.0165   Mean   :0.2525   Mean   :0.3531   Mean   :0.05281  \n",
       " 3rd Qu.:0.0000   3rd Qu.:1.0000   3rd Qu.:1.0000   3rd Qu.:0.00000  \n",
       " Max.   :1.0000   Max.   :1.0000   Max.   :1.0000   Max.   :1.00000  \n",
       "   Biltyp_SUV     Drivning_Tvåhjulsdriven   Färg_Brun          Färg_Grå     \n",
       " Min.   :0.0000   Min.   :0.0000          Min.   :0.00000   Min.   :0.0000  \n",
       " 1st Qu.:0.0000   1st Qu.:0.0000          1st Qu.:0.00000   1st Qu.:0.0000  \n",
       " Median :0.0000   Median :1.0000          Median :0.00000   Median :0.0000  \n",
       " Mean   :0.3218   Mean   :0.6683          Mean   :0.03465   Mean   :0.2079  \n",
       " 3rd Qu.:1.0000   3rd Qu.:1.0000          3rd Qu.:0.00000   3rd Qu.:0.0000  \n",
       " Max.   :1.0000   Max.   :1.0000          Max.   :1.00000   Max.   :1.0000  \n",
       "   Färg_Grön         Färg_Orange        Färg_Röd        Färg_Silver     \n",
       " Min.   :0.000000   Min.   :0.0000   Min.   :0.00000   Min.   :0.00000  \n",
       " 1st Qu.:0.000000   1st Qu.:0.0000   1st Qu.:0.00000   1st Qu.:0.00000  \n",
       " Median :0.000000   Median :0.0000   Median :0.00000   Median :0.00000  \n",
       " Mean   :0.006601   Mean   :0.0033   Mean   :0.07261   Mean   :0.07921  \n",
       " 3rd Qu.:0.000000   3rd Qu.:0.0000   3rd Qu.:0.00000   3rd Qu.:0.00000  \n",
       " Max.   :1.000000   Max.   :1.0000   Max.   :1.00000   Max.   :1.00000  \n",
       "   Färg_Svart        Färg_Vit        Märke_Audi        Märke_BMW      \n",
       " Min.   :0.0000   Min.   :0.0000   Min.   :0.00000   Min.   :0.00000  \n",
       " 1st Qu.:0.0000   1st Qu.:0.0000   1st Qu.:0.00000   1st Qu.:0.00000  \n",
       " Median :0.0000   Median :0.0000   Median :0.00000   Median :0.00000  \n",
       " Mean   :0.2211   Mean   :0.2772   Mean   :0.08251   Mean   :0.07756  \n",
       " 3rd Qu.:0.0000   3rd Qu.:1.0000   3rd Qu.:0.00000   3rd Qu.:0.00000  \n",
       " Max.   :1.0000   Max.   :1.0000   Max.   :1.00000   Max.   :1.00000  \n",
       " Märke_Citroën     Märke_Cupra        Märke_Dacia        Märke_Fiat    \n",
       " Min.   :0.0000   Min.   :0.000000   Min.   :0.00000   Min.   :0.0000  \n",
       " 1st Qu.:0.0000   1st Qu.:0.000000   1st Qu.:0.00000   1st Qu.:0.0000  \n",
       " Median :0.0000   Median :0.000000   Median :0.00000   Median :0.0000  \n",
       " Mean   :0.0132   Mean   :0.006601   Mean   :0.00165   Mean   :0.0033  \n",
       " 3rd Qu.:0.0000   3rd Qu.:0.000000   3rd Qu.:0.00000   3rd Qu.:0.0000  \n",
       " Max.   :1.0000   Max.   :1.000000   Max.   :1.00000   Max.   :1.0000  \n",
       "   Märke_Ford      Märke_Honda       Märke_Hyundai      Märke_Jaguar   \n",
       " Min.   :0.0000   Min.   :0.000000   Min.   :0.00000   Min.   :0.0000  \n",
       " 1st Qu.:0.0000   1st Qu.:0.000000   1st Qu.:0.00000   1st Qu.:0.0000  \n",
       " Median :0.0000   Median :0.000000   Median :0.00000   Median :0.0000  \n",
       " Mean   :0.0297   Mean   :0.006601   Mean   :0.02145   Mean   :0.0033  \n",
       " 3rd Qu.:0.0000   3rd Qu.:0.000000   3rd Qu.:0.00000   3rd Qu.:0.0000  \n",
       " Max.   :1.0000   Max.   :1.000000   Max.   :1.00000   Max.   :1.0000  \n",
       "   Märke_Jeep       Märke_Kia       Märke_Land Rover    Märke_Lexus      \n",
       " Min.   :0.0000   Min.   :0.00000   Min.   :0.000000   Min.   :0.000000  \n",
       " 1st Qu.:0.0000   1st Qu.:0.00000   1st Qu.:0.000000   1st Qu.:0.000000  \n",
       " Median :0.0000   Median :0.00000   Median :0.000000   Median :0.000000  \n",
       " Mean   :0.0033   Mean   :0.09901   Mean   :0.006601   Mean   :0.004951  \n",
       " 3rd Qu.:0.0000   3rd Qu.:0.00000   3rd Qu.:0.000000   3rd Qu.:0.000000  \n",
       " Max.   :1.0000   Max.   :1.00000   Max.   :1.000000   Max.   :1.000000  \n",
       "  Märke_Mazda       Märke_Mercedes-Benz   Märke_MINI      Märke_Mitsubishi\n",
       " Min.   :0.000000   Min.   :0.00000     Min.   :0.00000   Min.   :0.0000  \n",
       " 1st Qu.:0.000000   1st Qu.:0.00000     1st Qu.:0.00000   1st Qu.:0.0000  \n",
       " Median :0.000000   Median :0.00000     Median :0.00000   Median :0.0000  \n",
       " Mean   :0.006601   Mean   :0.05941     Mean   :0.01485   Mean   :0.0132  \n",
       " 3rd Qu.:0.000000   3rd Qu.:0.00000     3rd Qu.:0.00000   3rd Qu.:0.0000  \n",
       " Max.   :1.000000   Max.   :1.00000     Max.   :1.00000   Max.   :1.0000  \n",
       "  Märke_Nissan       Märke_Opel     Märke_Peugeot     Märke_Porsche    \n",
       " Min.   :0.00000   Min.   :0.0000   Min.   :0.00000   Min.   :0.00000  \n",
       " 1st Qu.:0.00000   1st Qu.:0.0000   1st Qu.:0.00000   1st Qu.:0.00000  \n",
       " Median :0.00000   Median :0.0000   Median :0.00000   Median :0.00000  \n",
       " Mean   :0.02475   Mean   :0.0033   Mean   :0.01485   Mean   :0.00165  \n",
       " 3rd Qu.:0.00000   3rd Qu.:0.0000   3rd Qu.:0.00000   3rd Qu.:0.00000  \n",
       " Max.   :1.00000   Max.   :1.0000   Max.   :1.00000   Max.   :1.00000  \n",
       " Märke_Renault       Märke_Seat      Märke_Skoda       Märke_Subaru     \n",
       " Min.   :0.00000   Min.   :0.0000   Min.   :0.00000   Min.   :0.000000  \n",
       " 1st Qu.:0.00000   1st Qu.:0.0000   1st Qu.:0.00000   1st Qu.:0.000000  \n",
       " Median :0.00000   Median :0.0000   Median :0.00000   Median :0.000000  \n",
       " Mean   :0.03135   Mean   :0.0165   Mean   :0.06271   Mean   :0.009901  \n",
       " 3rd Qu.:0.00000   3rd Qu.:0.0000   3rd Qu.:0.00000   3rd Qu.:0.000000  \n",
       " Max.   :1.00000   Max.   :1.0000   Max.   :1.00000   Max.   :1.000000  \n",
       "  Märke_Suzuki       Märke_Tesla        Märke_Toyota     Märke_Volkswagen\n",
       " Min.   :0.000000   Min.   :0.000000   Min.   :0.00000   Min.   :0.0000  \n",
       " 1st Qu.:0.000000   1st Qu.:0.000000   1st Qu.:0.00000   1st Qu.:0.0000  \n",
       " Median :0.000000   Median :0.000000   Median :0.00000   Median :0.0000  \n",
       " Mean   :0.004951   Mean   :0.004951   Mean   :0.04125   Mean   :0.1832  \n",
       " 3rd Qu.:0.000000   3rd Qu.:0.000000   3rd Qu.:0.00000   3rd Qu.:0.0000  \n",
       " Max.   :1.000000   Max.   :1.000000   Max.   :1.00000   Max.   :1.0000  \n",
       "  Märke_Volvo    \n",
       " Min.   :0.0000  \n",
       " 1st Qu.:0.0000  \n",
       " Median :0.0000  \n",
       " Mean   :0.1452  \n",
       " 3rd Qu.:0.0000  \n",
       " Max.   :1.0000  "
      ]
     },
     "metadata": {},
     "output_type": "display_data"
    }
   ],
   "source": [
    "# Convert categorical variables to dummy variables\n",
    "categorical_features <- c(\"Län\", \"Bränsle\", \"Växellåda\", \"Biltyp\", \"Drivning\", \"Färg\", \"Märke\" )\n",
    "\n",
    "car_dummies <- dummy_cols(car_data_filtered, remove_first_dummy = TRUE, remove_selected_columns = TRUE)\n",
    "str(car_dummies)\n",
    "summary(car_dummies)"
   ]
  },
  {
   "cell_type": "code",
   "execution_count": 46,
   "id": "e2227ef6-572c-4e1e-9e96-81190769dd5a",
   "metadata": {},
   "outputs": [
    {
     "name": "stdout",
     "output_type": "stream",
     "text": [
      "[1] \"Highly correlated variables:\"\n",
      "         row col\n",
      "Modellår   3   2\n",
      "Miltal     2   3\n"
     ]
    }
   ],
   "source": [
    "# Check for high correlations\n",
    "correlation_matrix <- cor(car_dummies)\n",
    "high_correlation_threshold <- 0.7\n",
    "high_correlation_pairs <- which(abs(correlation_matrix) > high_correlation_threshold & correlation_matrix != 1, arr.ind = TRUE)\n",
    " \n",
    "if (length(high_correlation_pairs) > 0) {\n",
    "  print(\"Highly correlated variables:\")\n",
    "  print(high_correlation_pairs)\n",
    "}"
   ]
  },
  {
   "cell_type": "code",
   "execution_count": 47,
   "id": "7483d341-aadb-4ec4-94fd-6d6d390d0b12",
   "metadata": {},
   "outputs": [
    {
     "name": "stdout",
     "output_type": "stream",
     "text": [
      "[1] \"Correlation between Miltal and Modellår: -0.753189010746825\"\n"
     ]
    },
    {
     "data": {
      "image/png": "[encoded data removed]",
      "text/plain": [
       "Plot with title \"Scatter Plot of Miltal vs. Modellår\""
      ]
     },
     "metadata": {},
     "output_type": "display_data"
    }
   ],
   "source": [
    "# Calculating correlation between model year and milage. Also plotting them against eachother\n",
    "cor_mm <- cor(car_dummies$Modellår, car_dummies$Miltal)\n",
    "print(paste(\"Correlation between Miltal and Modellår:\", cor_mm))\n",
    "\n",
    "plot(car_dummies$Miltal, car_dummies$Modellår, \n",
    "     xlab = \"Miltal\", ylab = \"Modellår\", \n",
    "     main = \"Scatter Plot of Miltal vs. Modellår\",\n",
    "     col = c(\"blue\", \"red\"))"
   ]
  },
  {
   "cell_type": "code",
   "execution_count": 48,
   "id": "9482c486-7d9f-4ada-a3f1-81c9cbacd0d2",
   "metadata": {},
   "outputs": [],
   "source": [
    "# Splitting data into train and test\n",
    "set.seed(123)\n",
    "train_proportion <- 0.8\n",
    "train_indices <- sample(nrow(car_dummies), size = round(train_proportion * nrow(car_dummies)), replace = FALSE)\n",
    "\n",
    "# Split the data into training and test sets\n",
    "train_data <- car_dummies[train_indices, ]\n",
    "test_data <- car_dummies[-train_indices, ]\n",
    "\n",
    "X_train <- train_data[, !names(test_data) %in% \"Pris\"]\n",
    "y_train <- train_data$Pris\n",
    "\n",
    "X_test <- test_data[, !names(test_data) %in% \"Pris\"]\n",
    "y_test <- test_data$Pris"
   ]
  },
  {
   "cell_type": "code",
   "execution_count": 49,
   "id": "87a63ccc-6450-4ed1-a77a-9144f35a1b6e",
   "metadata": {},
   "outputs": [],
   "source": [
    "#Creating Model Year and Milage training sets\n",
    "X_train_modellår <- dplyr::select(X_train, -Miltal)\n",
    "\n",
    "X_train_miltal <- dplyr::select(X_train, -Modellår)\n",
    "\n",
    "X_train_combo <-  X_train\n",
    "X_train_combo$Mil_Per_År <- ifelse(X_train_combo$Modellår == 2024, \n",
    "                                   X_train_combo$Miltal, \n",
    "                                   X_train_combo$Miltal / (2024 - X_train_combo$Modellår))\n",
    "X_train_combo <- dplyr::select(X_train_combo, -Modellår, -Miltal)"
   ]
  },
  {
   "cell_type": "code",
   "execution_count": 50,
   "id": "f6f441a8-73fd-440c-af3f-33dd33906704",
   "metadata": {},
   "outputs": [],
   "source": [
    "# Creating models for the different training sets\n",
    "model_modellår <- lm(y_train ~ ., data = X_train_modellår)\n",
    "\n",
    "model_miltal <- lm(y_train ~ ., data = X_train_miltal)\n",
    "\n",
    "model_combo <- lm(y_train ~ ., data = X_train_combo)"
   ]
  },
  {
   "cell_type": "code",
   "execution_count": 51,
   "id": "39749267",
   "metadata": {},
   "outputs": [
    {
     "data": {
      "text/html": [
       "<table>\n",
       "<thead><tr><th scope=col>Model</th><th scope=col>Adj_R_squared</th><th scope=col>BIC</th></tr></thead>\n",
       "<tbody>\n",
       "\t<tr><td>Model Modellår  </td><td>0.7877566       </td><td>11914.45        </td></tr>\n",
       "\t<tr><td>Model Miltal    </td><td>0.7338230       </td><td>12024.27        </td></tr>\n",
       "\t<tr><td>Model Mil Per År</td><td>0.4895101       </td><td>12340.10        </td></tr>\n",
       "</tbody>\n",
       "</table>\n"
      ],
      "text/latex": [
       "\\begin{tabular}{r|lll}\n",
       " Model & Adj\\_R\\_squared & BIC\\\\\n",
       "\\hline\n",
       "\t Model Modellår   & 0.7877566        & 11914.45        \\\\\n",
       "\t Model Miltal     & 0.7338230        & 12024.27        \\\\\n",
       "\t Model Mil Per År & 0.4895101        & 12340.10        \\\\\n",
       "\\end{tabular}\n"
      ],
      "text/markdown": [
       "\n",
       "| Model | Adj_R_squared | BIC |\n",
       "|---|---|---|\n",
       "| Model Modellår   | 0.7877566        | 11914.45         |\n",
       "| Model Miltal     | 0.7338230        | 12024.27         |\n",
       "| Model Mil Per År | 0.4895101        | 12340.10         |\n",
       "\n"
      ],
      "text/plain": [
       "  Model            Adj_R_squared BIC     \n",
       "1 Model Modellår   0.7877566     11914.45\n",
       "2 Model Miltal     0.7338230     12024.27\n",
       "3 Model Mil Per År 0.4895101     12340.10"
      ]
     },
     "metadata": {},
     "output_type": "display_data"
    }
   ],
   "source": [
    "# Creating results and viewing them\n",
    "results <- data.frame(\n",
    "  Model = c(\"Model Modellår\", \"Model Miltal\", \"Model Mil Per År\"),\n",
    "  Adj_R_squared = c(summary(model_modellår)$adj.r.squared,\n",
    "                    summary(model_miltal)$adj.r.squared,\n",
    "                    summary(model_combo)$adj.r.squared),\n",
    "  BIC = c(BIC(model_modellår), BIC(model_miltal), BIC(model_combo))\n",
    ")\n",
    "results"
   ]
  },
  {
   "cell_type": "code",
   "execution_count": 52,
   "id": "425f46e3-2458-4991-a4c8-9dc93ab7f60a",
   "metadata": {},
   "outputs": [
    {
     "data": {
      "text/plain": [
       "\n",
       "Call:\n",
       "lm(formula = y_train ~ ., data = X_train_modellår)\n",
       "\n",
       "Residuals:\n",
       "   Min     1Q Median     3Q    Max \n",
       "-97918 -23131  -1588  19679 145090 \n",
       "\n",
       "Coefficients: (1 not defined because of singularities)\n",
       "                                Estimate Std. Error t value Pr(>|t|)    \n",
       "(Intercept)                   -4.041e+07  1.658e+06 -24.372  < 2e-16 ***\n",
       "Modellår                       2.011e+04  8.196e+02  24.531  < 2e-16 ***\n",
       "Hästkrafter                    6.825e+02  5.500e+01  12.408  < 2e-16 ***\n",
       "Län_Gotland                   -7.513e+03  1.447e+04  -0.519  0.60382    \n",
       "Län_Jönköping                 -2.567e+03  8.941e+03  -0.287  0.77416    \n",
       "Län_Kalmar                    -4.485e+03  7.574e+03  -0.592  0.55407    \n",
       "Län_Östergötland               5.835e+03  5.836e+03   1.000  0.31799    \n",
       "Län_Skåne                     -1.858e+04  6.210e+03  -2.993  0.00293 ** \n",
       "Län_Stockholm                  1.787e+03  6.225e+03   0.287  0.77417    \n",
       "`Län_Västra Götalands`        -1.102e+04  6.203e+03  -1.776  0.07647 .  \n",
       "Bränsle_Diesel                 1.795e+04  5.793e+03   3.099  0.00207 ** \n",
       "Bränsle_El                     1.207e+04  8.225e+03   1.467  0.14302    \n",
       "`Bränsle_Miljöbränsle/Hybrid`  9.841e+03  6.485e+03   1.517  0.12989    \n",
       "Växellåda_Manuell             -2.907e+04  5.613e+03  -5.179 3.45e-07 ***\n",
       "Biltyp_Coupé                  -9.679e+04  4.205e+04  -2.302  0.02184 *  \n",
       "Biltyp_Halvkombi              -1.059e+05  3.980e+04  -2.661  0.00809 ** \n",
       "Biltyp_Kombi                  -9.696e+04  3.981e+04  -2.436  0.01526 *  \n",
       "Biltyp_Sedan                  -8.723e+04  4.033e+04  -2.163  0.03107 *  \n",
       "Biltyp_SUV                    -7.515e+04  3.973e+04  -1.891  0.05925 .  \n",
       "Drivning_Tvåhjulsdriven       -2.639e+03  5.673e+03  -0.465  0.64207    \n",
       "Färg_Brun                      7.377e+03  1.124e+04   0.656  0.51213    \n",
       "Färg_Grå                       2.092e+02  6.955e+03   0.030  0.97601    \n",
       "Färg_Grön                      4.060e+04  2.457e+04   1.652  0.09920 .  \n",
       "Färg_Orange                   -5.975e+04  4.306e+04  -1.388  0.16594    \n",
       "Färg_Röd                       4.414e+02  9.145e+03   0.048  0.96152    \n",
       "Färg_Silver                   -7.991e+02  8.415e+03  -0.095  0.92439    \n",
       "Färg_Svart                    -3.233e+03  7.133e+03  -0.453  0.65066    \n",
       "Färg_Vit                      -7.865e+03  6.684e+03  -1.177  0.23997    \n",
       "Märke_Audi                     5.039e+04  4.054e+04   1.243  0.21456    \n",
       "Märke_BMW                      5.288e+04  4.008e+04   1.319  0.18780    \n",
       "Märke_Citroën                  4.356e+04  4.319e+04   1.009  0.31376    \n",
       "Märke_Cupra                    5.828e+04  4.530e+04   1.286  0.19898    \n",
       "Märke_Dacia                   -4.383e+04  5.511e+04  -0.795  0.42678    \n",
       "Märke_Fiat                    -1.561e+04  5.604e+04  -0.279  0.78071    \n",
       "Märke_Ford                     2.388e+04  4.158e+04   0.574  0.56601    \n",
       "Märke_Honda                    4.763e+04  4.475e+04   1.064  0.28773    \n",
       "Märke_Hyundai                  2.091e+04  4.228e+04   0.495  0.62117    \n",
       "Märke_Jaguar                   3.617e+04  4.892e+04   0.739  0.46004    \n",
       "Märke_Jeep                    -4.590e+03  4.892e+04  -0.094  0.92530    \n",
       "Märke_Kia                      3.835e+04  4.059e+04   0.945  0.34530    \n",
       "`Märke_Land Rover`             1.231e+05  4.616e+04   2.668  0.00793 ** \n",
       "Märke_Lexus                    7.466e+04  4.928e+04   1.515  0.13047    \n",
       "Märke_Mazda                    1.867e+03  4.457e+04   0.042  0.96661    \n",
       "`Märke_Mercedes-Benz`          9.736e+04  4.040e+04   2.410  0.01636 *  \n",
       "Märke_MINI                     3.561e+04  4.206e+04   0.847  0.39767    \n",
       "Märke_Mitsubishi               2.306e+04  4.376e+04   0.527  0.59852    \n",
       "Märke_Nissan                   2.083e+04  4.126e+04   0.505  0.61389    \n",
       "Märke_Opel                    -3.773e+04  5.520e+04  -0.684  0.49463    \n",
       "Märke_Peugeot                  4.949e+04  4.327e+04   1.144  0.25337    \n",
       "Märke_Porsche                         NA         NA      NA       NA    \n",
       "Märke_Renault                  2.442e+04  4.172e+04   0.585  0.55860    \n",
       "Märke_Seat                     1.929e+04  4.278e+04   0.451  0.65229    \n",
       "Märke_Skoda                    4.446e+04  4.063e+04   1.094  0.27441    \n",
       "Märke_Subaru                   5.427e+04  4.426e+04   1.226  0.22079    \n",
       "Märke_Suzuki                   3.863e+04  4.937e+04   0.783  0.43434    \n",
       "Märke_Tesla                    2.341e+04  4.863e+04   0.481  0.63052    \n",
       "Märke_Toyota                   3.458e+04  4.131e+04   0.837  0.40299    \n",
       "Märke_Volkswagen               3.754e+04  4.040e+04   0.929  0.35331    \n",
       "Märke_Volvo                    5.653e+04  4.010e+04   1.410  0.15938    \n",
       "---\n",
       "Signif. codes:  0 '***' 0.001 '**' 0.01 '*' 0.05 '.' 0.1 ' ' 1\n",
       "\n",
       "Residual standard error: 38240 on 427 degrees of freedom\n",
       "Multiple R-squared:  0.8128,\tAdjusted R-squared:  0.7878 \n",
       "F-statistic: 32.52 on 57 and 427 DF,  p-value: < 2.2e-16\n"
      ]
     },
     "metadata": {},
     "output_type": "display_data"
    }
   ],
   "source": [
    "# Checking out the chosen model from the result above\n",
    "summary(model_modellår)"
   ]
  },
  {
   "cell_type": "code",
   "execution_count": 53,
   "id": "a63a4aa4-33d7-4ada-9426-685cf535e5e8",
   "metadata": {
    "scrolled": true
   },
   "outputs": [
    {
     "name": "stderr",
     "output_type": "stream",
     "text": [
      "Warning message:\n",
      "\"not plotting observations with leverage one:\n",
      "  1, 167, 214, 319, 402, 457\"Warning message:\n",
      "\"not plotting observations with leverage one:\n",
      "  1, 167, 214, 319, 402, 457\""
     ]
    },
    {
     "data": {
      "image/png": "[encoded data removed]",
      "text/plain": [
       "Plot with title \"\""
      ]
     },
     "metadata": {},
     "output_type": "display_data"
    }
   ],
   "source": [
    "# Plotting diagnostic plots for the chosen model\n",
    "par(mfrow = c(2, 2))\n",
    "plot(model_modellår)"
   ]
  },
  {
   "cell_type": "code",
   "execution_count": 54,
   "id": "1eb02975-3fc2-44de-9898-2bce1410e380",
   "metadata": {
    "scrolled": true
   },
   "outputs": [
    {
     "name": "stdout",
     "output_type": "stream",
     "text": [
      "  1 167 214 319 402 457 \n",
      "  1 167 214 319 402 457 \n"
     ]
    },
    {
     "data": {
      "text/html": [
       "<table>\n",
       "<thead><tr><th scope=col>Modellår</th><th scope=col>Hästkrafter</th><th scope=col>Län_Gotland</th><th scope=col>Län_Jönköping</th><th scope=col>Län_Kalmar</th><th scope=col>Län_Östergötland</th><th scope=col>Län_Skåne</th><th scope=col>Län_Stockholm</th><th scope=col>Län_Västra Götalands</th><th scope=col>Bränsle_Diesel</th><th scope=col>...</th><th scope=col>Märke_Porsche</th><th scope=col>Märke_Renault</th><th scope=col>Märke_Seat</th><th scope=col>Märke_Skoda</th><th scope=col>Märke_Subaru</th><th scope=col>Märke_Suzuki</th><th scope=col>Märke_Tesla</th><th scope=col>Märke_Toyota</th><th scope=col>Märke_Volkswagen</th><th scope=col>Märke_Volvo</th></tr></thead>\n",
       "<tbody>\n",
       "\t<tr><td>2022</td><td>136 </td><td>0   </td><td>0   </td><td>0   </td><td>0   </td><td>0   </td><td>1   </td><td>0   </td><td>0   </td><td>... </td><td>0   </td><td>0   </td><td>0   </td><td>0   </td><td>0   </td><td>0   </td><td>0   </td><td>0   </td><td>0   </td><td>0   </td></tr>\n",
       "\t<tr><td>2019</td><td>141 </td><td>0   </td><td>0   </td><td>0   </td><td>1   </td><td>0   </td><td>0   </td><td>0   </td><td>0   </td><td>... </td><td>0   </td><td>0   </td><td>0   </td><td>0   </td><td>0   </td><td>0   </td><td>0   </td><td>0   </td><td>0   </td><td>0   </td></tr>\n",
       "\t<tr><td>2021</td><td>101 </td><td>0   </td><td>0   </td><td>0   </td><td>0   </td><td>0   </td><td>1   </td><td>0   </td><td>0   </td><td>... </td><td>0   </td><td>0   </td><td>0   </td><td>0   </td><td>0   </td><td>0   </td><td>0   </td><td>0   </td><td>0   </td><td>0   </td></tr>\n",
       "\t<tr><td>2018</td><td>109 </td><td>0   </td><td>0   </td><td>0   </td><td>1   </td><td>0   </td><td>0   </td><td>0   </td><td>1   </td><td>... </td><td>0   </td><td>0   </td><td>0   </td><td>0   </td><td>0   </td><td>0   </td><td>0   </td><td>0   </td><td>0   </td><td>0   </td></tr>\n",
       "\t<tr><td>2020</td><td>252 </td><td>0   </td><td>0   </td><td>0   </td><td>0   </td><td>0   </td><td>1   </td><td>0   </td><td>0   </td><td>... </td><td>0   </td><td>0   </td><td>0   </td><td>0   </td><td>0   </td><td>0   </td><td>0   </td><td>0   </td><td>0   </td><td>0   </td></tr>\n",
       "\t<tr><td>2017</td><td>180 </td><td>0   </td><td>0   </td><td>0   </td><td>1   </td><td>0   </td><td>0   </td><td>0   </td><td>1   </td><td>... </td><td>0   </td><td>0   </td><td>0   </td><td>0   </td><td>0   </td><td>0   </td><td>0   </td><td>0   </td><td>0   </td><td>0   </td></tr>\n",
       "</tbody>\n",
       "</table>\n"
      ],
      "text/latex": [
       "\\begin{tabular}{r|llllllllllllllllllllllllllllllllllllllllllllllllllllllllll}\n",
       " Modellår & Hästkrafter & Län\\_Gotland & Län\\_Jönköping & Län\\_Kalmar & Län\\_Östergötland & Län\\_Skåne & Län\\_Stockholm & Län\\_Västra Götalands & Bränsle\\_Diesel & ... & Märke\\_Porsche & Märke\\_Renault & Märke\\_Seat & Märke\\_Skoda & Märke\\_Subaru & Märke\\_Suzuki & Märke\\_Tesla & Märke\\_Toyota & Märke\\_Volkswagen & Märke\\_Volvo\\\\\n",
       "\\hline\n",
       "\t 2022 & 136  & 0    & 0    & 0    & 0    & 0    & 1    & 0    & 0    & ...  & 0    & 0    & 0    & 0    & 0    & 0    & 0    & 0    & 0    & 0   \\\\\n",
       "\t 2019 & 141  & 0    & 0    & 0    & 1    & 0    & 0    & 0    & 0    & ...  & 0    & 0    & 0    & 0    & 0    & 0    & 0    & 0    & 0    & 0   \\\\\n",
       "\t 2021 & 101  & 0    & 0    & 0    & 0    & 0    & 1    & 0    & 0    & ...  & 0    & 0    & 0    & 0    & 0    & 0    & 0    & 0    & 0    & 0   \\\\\n",
       "\t 2018 & 109  & 0    & 0    & 0    & 1    & 0    & 0    & 0    & 1    & ...  & 0    & 0    & 0    & 0    & 0    & 0    & 0    & 0    & 0    & 0   \\\\\n",
       "\t 2020 & 252  & 0    & 0    & 0    & 0    & 0    & 1    & 0    & 0    & ...  & 0    & 0    & 0    & 0    & 0    & 0    & 0    & 0    & 0    & 0   \\\\\n",
       "\t 2017 & 180  & 0    & 0    & 0    & 1    & 0    & 0    & 0    & 1    & ...  & 0    & 0    & 0    & 0    & 0    & 0    & 0    & 0    & 0    & 0   \\\\\n",
       "\\end{tabular}\n"
      ],
      "text/markdown": [
       "\n",
       "| Modellår | Hästkrafter | Län_Gotland | Län_Jönköping | Län_Kalmar | Län_Östergötland | Län_Skåne | Län_Stockholm | Län_Västra Götalands | Bränsle_Diesel | ... | Märke_Porsche | Märke_Renault | Märke_Seat | Märke_Skoda | Märke_Subaru | Märke_Suzuki | Märke_Tesla | Märke_Toyota | Märke_Volkswagen | Märke_Volvo |\n",
       "|---|---|---|---|---|---|---|---|---|---|---|---|---|---|---|---|---|---|---|---|---|\n",
       "| 2022 | 136  | 0    | 0    | 0    | 0    | 0    | 1    | 0    | 0    | ...  | 0    | 0    | 0    | 0    | 0    | 0    | 0    | 0    | 0    | 0    |\n",
       "| 2019 | 141  | 0    | 0    | 0    | 1    | 0    | 0    | 0    | 0    | ...  | 0    | 0    | 0    | 0    | 0    | 0    | 0    | 0    | 0    | 0    |\n",
       "| 2021 | 101  | 0    | 0    | 0    | 0    | 0    | 1    | 0    | 0    | ...  | 0    | 0    | 0    | 0    | 0    | 0    | 0    | 0    | 0    | 0    |\n",
       "| 2018 | 109  | 0    | 0    | 0    | 1    | 0    | 0    | 0    | 1    | ...  | 0    | 0    | 0    | 0    | 0    | 0    | 0    | 0    | 0    | 0    |\n",
       "| 2020 | 252  | 0    | 0    | 0    | 0    | 0    | 1    | 0    | 0    | ...  | 0    | 0    | 0    | 0    | 0    | 0    | 0    | 0    | 0    | 0    |\n",
       "| 2017 | 180  | 0    | 0    | 0    | 1    | 0    | 0    | 0    | 1    | ...  | 0    | 0    | 0    | 0    | 0    | 0    | 0    | 0    | 0    | 0    |\n",
       "\n"
      ],
      "text/plain": [
       "  Modellår Hästkrafter Län_Gotland Län_Jönköping Län_Kalmar Län_Östergötland\n",
       "1 2022     136         0           0             0          0               \n",
       "2 2019     141         0           0             0          1               \n",
       "3 2021     101         0           0             0          0               \n",
       "4 2018     109         0           0             0          1               \n",
       "5 2020     252         0           0             0          0               \n",
       "6 2017     180         0           0             0          1               \n",
       "  Län_Skåne Län_Stockholm Län_Västra Götalands Bränsle_Diesel ... Märke_Porsche\n",
       "1 0         1             0                    0              ... 0            \n",
       "2 0         0             0                    0              ... 0            \n",
       "3 0         1             0                    0              ... 0            \n",
       "4 0         0             0                    1              ... 0            \n",
       "5 0         1             0                    0              ... 0            \n",
       "6 0         0             0                    1              ... 0            \n",
       "  Märke_Renault Märke_Seat Märke_Skoda Märke_Subaru Märke_Suzuki Märke_Tesla\n",
       "1 0             0          0           0            0            0          \n",
       "2 0             0          0           0            0            0          \n",
       "3 0             0          0           0            0            0          \n",
       "4 0             0          0           0            0            0          \n",
       "5 0             0          0           0            0            0          \n",
       "6 0             0          0           0            0            0          \n",
       "  Märke_Toyota Märke_Volkswagen Märke_Volvo\n",
       "1 0            0                0          \n",
       "2 0            0                0          \n",
       "3 0            0                0          \n",
       "4 0            0                0          \n",
       "5 0            0                0          \n",
       "6 0            0                0          "
      ]
     },
     "metadata": {},
     "output_type": "display_data"
    }
   ],
   "source": [
    "# Calculating high leverage values\n",
    "leverage <- hatvalues(model_modellår)\n",
    "high_leverage_indices <- which(leverage == 1)\n",
    "print(high_leverage_indices)\n",
    "\n",
    "row_numbers <- c(high_leverage_indices)\n",
    "X_train_modellår[row_numbers, ]"
   ]
  },
  {
   "cell_type": "code",
   "execution_count": 55,
   "id": "7f248916-b380-411e-a795-6027b3817653",
   "metadata": {},
   "outputs": [],
   "source": [
    "# Removing high leverage values\n",
    "X_train <- X_train_modellår[-high_leverage_indices, ]\n",
    "y_train <- y_train[-high_leverage_indices]"
   ]
  },
  {
   "cell_type": "code",
   "execution_count": 56,
   "id": "b4cb12f3-4c46-474e-992e-0bb9a284f91f",
   "metadata": {},
   "outputs": [
    {
     "data": {
      "text/plain": [
       "\n",
       "Call:\n",
       "lm(formula = y_train ~ ., data = X_train)\n",
       "\n",
       "Residuals:\n",
       "   Min     1Q Median     3Q    Max \n",
       "-97918 -23385  -1984  19863 145090 \n",
       "\n",
       "Coefficients: (7 not defined because of singularities)\n",
       "                                Estimate Std. Error t value Pr(>|t|)    \n",
       "(Intercept)                   -4.043e+07  1.656e+06 -24.409  < 2e-16 ***\n",
       "Modellår                       2.011e+04  8.196e+02  24.531  < 2e-16 ***\n",
       "Hästkrafter                    6.825e+02  5.500e+01  12.408  < 2e-16 ***\n",
       "Län_Gotland                   -7.513e+03  1.447e+04  -0.519  0.60382    \n",
       "Län_Jönköping                 -2.567e+03  8.941e+03  -0.287  0.77416    \n",
       "Län_Kalmar                    -4.485e+03  7.574e+03  -0.592  0.55407    \n",
       "Län_Östergötland               5.835e+03  5.836e+03   1.000  0.31799    \n",
       "Län_Skåne                     -1.858e+04  6.210e+03  -2.993  0.00293 ** \n",
       "Län_Stockholm                  1.787e+03  6.225e+03   0.287  0.77417    \n",
       "`Län_Västra Götalands`        -1.102e+04  6.203e+03  -1.776  0.07647 .  \n",
       "Bränsle_Diesel                 1.795e+04  5.793e+03   3.099  0.00207 ** \n",
       "Bränsle_El                     1.207e+04  8.225e+03   1.467  0.14302    \n",
       "`Bränsle_Miljöbränsle/Hybrid`  9.841e+03  6.485e+03   1.517  0.12989    \n",
       "Växellåda_Manuell             -2.907e+04  5.613e+03  -5.179 3.45e-07 ***\n",
       "Biltyp_Coupé                  -2.165e+04  1.590e+04  -1.361  0.17416    \n",
       "Biltyp_Halvkombi              -3.077e+04  5.391e+03  -5.707 2.15e-08 ***\n",
       "Biltyp_Kombi                  -2.182e+04  4.859e+03  -4.490 9.16e-06 ***\n",
       "Biltyp_Sedan                  -1.209e+04  9.965e+03  -1.213  0.22579    \n",
       "Biltyp_SUV                            NA         NA      NA       NA    \n",
       "Drivning_Tvåhjulsdriven       -2.639e+03  5.673e+03  -0.465  0.64207    \n",
       "Färg_Brun                      7.377e+03  1.124e+04   0.656  0.51213    \n",
       "Färg_Grå                       2.092e+02  6.955e+03   0.030  0.97601    \n",
       "Färg_Grön                      4.060e+04  2.457e+04   1.652  0.09920 .  \n",
       "Färg_Orange                           NA         NA      NA       NA    \n",
       "Färg_Röd                       4.414e+02  9.145e+03   0.048  0.96152    \n",
       "Färg_Silver                   -7.991e+02  8.415e+03  -0.095  0.92439    \n",
       "Färg_Svart                    -3.233e+03  7.133e+03  -0.453  0.65066    \n",
       "Färg_Vit                      -7.865e+03  6.684e+03  -1.177  0.23997    \n",
       "Märke_Audi                    -6.133e+03  8.235e+03  -0.745  0.45684    \n",
       "Märke_BMW                     -3.652e+03  8.325e+03  -0.439  0.66110    \n",
       "Märke_Citroën                 -1.297e+04  1.711e+04  -0.758  0.44882    \n",
       "Märke_Cupra                    1.750e+03  2.198e+04   0.080  0.93657    \n",
       "Märke_Dacia                           NA         NA      NA       NA    \n",
       "Märke_Fiat                            NA         NA      NA       NA    \n",
       "Märke_Ford                    -3.265e+04  1.210e+04  -2.697  0.00727 ** \n",
       "Märke_Honda                   -8.892e+03  2.049e+04  -0.434  0.66457    \n",
       "Märke_Hyundai                 -3.562e+04  1.444e+04  -2.466  0.01405 *  \n",
       "Märke_Jaguar                  -2.036e+04  2.855e+04  -0.713  0.47627    \n",
       "Märke_Jeep                    -6.112e+04  2.833e+04  -2.158  0.03152 *  \n",
       "Märke_Kia                     -1.817e+04  8.536e+03  -2.129  0.03383 *  \n",
       "`Märke_Land Rover`             6.662e+04  2.319e+04   2.873  0.00427 ** \n",
       "Märke_Lexus                    1.813e+04  2.851e+04   0.636  0.52512    \n",
       "Märke_Mazda                   -5.466e+04  2.049e+04  -2.668  0.00792 ** \n",
       "`Märke_Mercedes-Benz`          4.084e+04  9.121e+03   4.477 9.71e-06 ***\n",
       "Märke_MINI                    -2.092e+04  1.439e+04  -1.453  0.14686    \n",
       "Märke_Mitsubishi              -3.347e+04  1.748e+04  -1.915  0.05618 .  \n",
       "Märke_Nissan                  -3.570e+04  1.168e+04  -3.055  0.00239 ** \n",
       "Märke_Opel                            NA         NA      NA       NA    \n",
       "Märke_Peugeot                 -7.035e+03  1.727e+04  -0.407  0.68402    \n",
       "Märke_Porsche                         NA         NA      NA       NA    \n",
       "Märke_Renault                 -3.210e+04  1.272e+04  -2.525  0.01194 *  \n",
       "Märke_Seat                    -3.724e+04  1.589e+04  -2.344  0.01955 *  \n",
       "Märke_Skoda                   -1.206e+04  9.223e+03  -1.308  0.19162    \n",
       "Märke_Subaru                  -2.257e+03  1.879e+04  -0.120  0.90447    \n",
       "Märke_Suzuki                  -1.789e+04  2.877e+04  -0.622  0.53431    \n",
       "Märke_Tesla                   -3.312e+04  3.089e+04  -1.072  0.28430    \n",
       "Märke_Toyota                  -2.195e+04  1.146e+04  -1.916  0.05610 .  \n",
       "Märke_Volkswagen              -1.898e+04  7.143e+03  -2.658  0.00816 ** \n",
       "Märke_Volvo                           NA         NA      NA       NA    \n",
       "---\n",
       "Signif. codes:  0 '***' 0.001 '**' 0.01 '*' 0.05 '.' 0.1 ' ' 1\n",
       "\n",
       "Residual standard error: 38240 on 427 degrees of freedom\n",
       "Multiple R-squared:  0.8092,\tAdjusted R-squared:  0.7864 \n",
       "F-statistic: 35.52 on 51 and 427 DF,  p-value: < 2.2e-16\n"
      ]
     },
     "metadata": {},
     "output_type": "display_data"
    }
   ],
   "source": [
    "#Creating the new model and checking the summary\n",
    "model1clean <- lm(y_train ~ ., data = X_train)\n",
    "summary(model1clean)"
   ]
  },
  {
   "cell_type": "code",
   "execution_count": 57,
   "id": "2c6808dc-a39b-4e2c-abf5-613615471eee",
   "metadata": {},
   "outputs": [],
   "source": [
    "# Removing NA Variables\n",
    "X_train <- dplyr::select(X_train, -Biltyp_SUV, -Färg_Orange, -Märke_Dacia, -Märke_Fiat, -Märke_Opel, -Märke_Porsche, -Märke_Volvo)"
   ]
  },
  {
   "cell_type": "code",
   "execution_count": 58,
   "id": "096a0c24-b18d-4948-aa29-a26bdcee1f19",
   "metadata": {},
   "outputs": [
    {
     "data": {
      "text/plain": [
       "\n",
       "Call:\n",
       "lm(formula = y_train ~ ., data = X_train)\n",
       "\n",
       "Residuals:\n",
       "   Min     1Q Median     3Q    Max \n",
       "-97918 -23385  -1984  19863 145090 \n",
       "\n",
       "Coefficients:\n",
       "                                Estimate Std. Error t value Pr(>|t|)    \n",
       "(Intercept)                   -4.043e+07  1.656e+06 -24.409  < 2e-16 ***\n",
       "Modellår                       2.011e+04  8.196e+02  24.531  < 2e-16 ***\n",
       "Hästkrafter                    6.825e+02  5.500e+01  12.408  < 2e-16 ***\n",
       "Län_Gotland                   -7.513e+03  1.447e+04  -0.519  0.60382    \n",
       "Län_Jönköping                 -2.567e+03  8.941e+03  -0.287  0.77416    \n",
       "Län_Kalmar                    -4.485e+03  7.574e+03  -0.592  0.55407    \n",
       "Län_Östergötland               5.835e+03  5.836e+03   1.000  0.31799    \n",
       "Län_Skåne                     -1.858e+04  6.210e+03  -2.993  0.00293 ** \n",
       "Län_Stockholm                  1.787e+03  6.225e+03   0.287  0.77417    \n",
       "`Län_Västra Götalands`        -1.102e+04  6.203e+03  -1.776  0.07647 .  \n",
       "Bränsle_Diesel                 1.795e+04  5.793e+03   3.099  0.00207 ** \n",
       "Bränsle_El                     1.207e+04  8.225e+03   1.467  0.14302    \n",
       "`Bränsle_Miljöbränsle/Hybrid`  9.841e+03  6.485e+03   1.517  0.12989    \n",
       "Växellåda_Manuell             -2.907e+04  5.613e+03  -5.179 3.45e-07 ***\n",
       "Biltyp_Coupé                  -2.165e+04  1.590e+04  -1.361  0.17416    \n",
       "Biltyp_Halvkombi              -3.077e+04  5.391e+03  -5.707 2.15e-08 ***\n",
       "Biltyp_Kombi                  -2.182e+04  4.859e+03  -4.490 9.16e-06 ***\n",
       "Biltyp_Sedan                  -1.209e+04  9.965e+03  -1.213  0.22579    \n",
       "Drivning_Tvåhjulsdriven       -2.639e+03  5.673e+03  -0.465  0.64207    \n",
       "Färg_Brun                      7.377e+03  1.124e+04   0.656  0.51213    \n",
       "Färg_Grå                       2.092e+02  6.955e+03   0.030  0.97601    \n",
       "Färg_Grön                      4.060e+04  2.457e+04   1.652  0.09920 .  \n",
       "Färg_Röd                       4.414e+02  9.145e+03   0.048  0.96152    \n",
       "Färg_Silver                   -7.991e+02  8.415e+03  -0.095  0.92439    \n",
       "Färg_Svart                    -3.233e+03  7.133e+03  -0.453  0.65066    \n",
       "Färg_Vit                      -7.865e+03  6.684e+03  -1.177  0.23997    \n",
       "Märke_Audi                    -6.133e+03  8.235e+03  -0.745  0.45684    \n",
       "Märke_BMW                     -3.652e+03  8.325e+03  -0.439  0.66110    \n",
       "Märke_Citroën                 -1.297e+04  1.711e+04  -0.758  0.44882    \n",
       "Märke_Cupra                    1.750e+03  2.198e+04   0.080  0.93657    \n",
       "Märke_Ford                    -3.265e+04  1.210e+04  -2.697  0.00727 ** \n",
       "Märke_Honda                   -8.892e+03  2.049e+04  -0.434  0.66457    \n",
       "Märke_Hyundai                 -3.562e+04  1.444e+04  -2.466  0.01405 *  \n",
       "Märke_Jaguar                  -2.036e+04  2.855e+04  -0.713  0.47627    \n",
       "Märke_Jeep                    -6.112e+04  2.833e+04  -2.158  0.03152 *  \n",
       "Märke_Kia                     -1.817e+04  8.536e+03  -2.129  0.03383 *  \n",
       "`Märke_Land Rover`             6.662e+04  2.319e+04   2.873  0.00427 ** \n",
       "Märke_Lexus                    1.813e+04  2.851e+04   0.636  0.52512    \n",
       "Märke_Mazda                   -5.466e+04  2.049e+04  -2.668  0.00792 ** \n",
       "`Märke_Mercedes-Benz`          4.084e+04  9.121e+03   4.477 9.71e-06 ***\n",
       "Märke_MINI                    -2.092e+04  1.439e+04  -1.453  0.14686    \n",
       "Märke_Mitsubishi              -3.347e+04  1.748e+04  -1.915  0.05618 .  \n",
       "Märke_Nissan                  -3.570e+04  1.168e+04  -3.055  0.00239 ** \n",
       "Märke_Peugeot                 -7.035e+03  1.727e+04  -0.407  0.68402    \n",
       "Märke_Renault                 -3.210e+04  1.272e+04  -2.525  0.01194 *  \n",
       "Märke_Seat                    -3.724e+04  1.589e+04  -2.344  0.01955 *  \n",
       "Märke_Skoda                   -1.206e+04  9.223e+03  -1.308  0.19162    \n",
       "Märke_Subaru                  -2.257e+03  1.879e+04  -0.120  0.90447    \n",
       "Märke_Suzuki                  -1.789e+04  2.877e+04  -0.622  0.53431    \n",
       "Märke_Tesla                   -3.312e+04  3.089e+04  -1.072  0.28430    \n",
       "Märke_Toyota                  -2.195e+04  1.146e+04  -1.916  0.05610 .  \n",
       "Märke_Volkswagen              -1.898e+04  7.143e+03  -2.658  0.00816 ** \n",
       "---\n",
       "Signif. codes:  0 '***' 0.001 '**' 0.01 '*' 0.05 '.' 0.1 ' ' 1\n",
       "\n",
       "Residual standard error: 38240 on 427 degrees of freedom\n",
       "Multiple R-squared:  0.8092,\tAdjusted R-squared:  0.7864 \n",
       "F-statistic: 35.52 on 51 and 427 DF,  p-value: < 2.2e-16\n"
      ]
     },
     "metadata": {},
     "output_type": "display_data"
    },
    {
     "data": {
      "text/html": [
       "52"
      ],
      "text/latex": [
       "52"
      ],
      "text/markdown": [
       "52"
      ],
      "text/plain": [
       "[1] 52"
      ]
     },
     "metadata": {},
     "output_type": "display_data"
    }
   ],
   "source": [
    "#Creating a new model again and checking summary\n",
    "model2clean <- lm(y_train ~ ., data = X_train)\n",
    "summary(model2clean)\n",
    "num_variables <- length(coefficients(model2clean))\n",
    "num_variables"
   ]
  },
  {
   "cell_type": "code",
   "execution_count": 59,
   "id": "fcff3a43-f6d2-4904-902e-a3514f9e5718",
   "metadata": {},
   "outputs": [
    {
     "data": {
      "image/png": "[encoded data removed]",
      "text/plain": [
       "Plot with title \"\""
      ]
     },
     "metadata": {},
     "output_type": "display_data"
    }
   ],
   "source": [
    "# New diagnostic plots\n",
    "par(mfrow = c(2, 2))\n",
    "plot(model2clean)"
   ]
  },
  {
   "cell_type": "code",
   "execution_count": 60,
   "id": "9dac22f9-0714-4778-ab44-9e4231802755",
   "metadata": {},
   "outputs": [],
   "source": [
    "# Removing observation 411 that i believe effects the normal distrubution\n",
    "X_train <- X_train[-411, ]\n",
    "y_train <- y_train[-411]"
   ]
  },
  {
   "cell_type": "code",
   "execution_count": 61,
   "id": "1e7abd92-e40d-42b4-876b-2fb9ae0350ea",
   "metadata": {
    "scrolled": true
   },
   "outputs": [
    {
     "data": {
      "text/plain": [
       "\n",
       "Call:\n",
       "lm(formula = Pris ~ Modellår + Hästkrafter + Län_Skåne + `Län_Västra Götalands` + \n",
       "    Bränsle_Diesel + `Bränsle_Miljöbränsle/Hybrid` + Växellåda_Manuell + \n",
       "    Biltyp_Coupé + Biltyp_Halvkombi + Biltyp_Kombi + Biltyp_Sedan + \n",
       "    Färg_Grön + Färg_Vit + Märke_Ford + Märke_Hyundai + Märke_Jeep + \n",
       "    Märke_Kia + `Märke_Land Rover` + Märke_Mazda + `Märke_Mercedes-Benz` + \n",
       "    Märke_Mitsubishi + Märke_Nissan + Märke_Renault + Märke_Seat + \n",
       "    Märke_Toyota + Märke_Volkswagen, data = car_data)\n",
       "\n",
       "Residuals:\n",
       "    Min      1Q  Median      3Q     Max \n",
       "-104744  -23521   -3449   19414  119575 \n",
       "\n",
       "Coefficients:\n",
       "                                Estimate Std. Error t value Pr(>|t|)    \n",
       "(Intercept)                   -4.018e+07  1.491e+06 -26.951  < 2e-16 ***\n",
       "Modellår                       1.998e+04  7.376e+02  27.087  < 2e-16 ***\n",
       "Hästkrafter                    7.094e+02  4.245e+01  16.713  < 2e-16 ***\n",
       "Län_Skåne                     -2.054e+04  5.201e+03  -3.949 9.11e-05 ***\n",
       "`Län_Västra Götalands`        -1.642e+04  5.139e+03  -3.195 0.001496 ** \n",
       "Bränsle_Diesel                 1.819e+04  4.890e+03   3.719 0.000225 ***\n",
       "`Bränsle_Miljöbränsle/Hybrid`  8.230e+03  5.685e+03   1.448 0.148384    \n",
       "Växellåda_Manuell             -3.154e+04  5.124e+03  -6.155 1.66e-09 ***\n",
       "Biltyp_Coupé                  -2.193e+04  1.501e+04  -1.461 0.144638    \n",
       "Biltyp_Halvkombi              -3.133e+04  4.885e+03  -6.412 3.63e-10 ***\n",
       "Biltyp_Kombi                  -2.221e+04  4.457e+03  -4.984 8.88e-07 ***\n",
       "Biltyp_Sedan                  -1.385e+04  8.769e+03  -1.580 0.114914    \n",
       "Färg_Grön                      4.882e+04  2.182e+04   2.237 0.025775 *  \n",
       "Färg_Vit                      -8.461e+03  3.909e+03  -2.165 0.030948 *  \n",
       "Märke_Ford                    -2.681e+04  1.076e+04  -2.492 0.013059 *  \n",
       "Märke_Hyundai                 -2.656e+04  1.296e+04  -2.050 0.040904 *  \n",
       "Märke_Jeep                    -5.534e+04  2.677e+04  -2.067 0.039274 *  \n",
       "Märke_Kia                     -1.105e+04  6.855e+03  -1.612 0.107619    \n",
       "`Märke_Land Rover`             7.056e+04  2.187e+04   3.227 0.001344 ** \n",
       "Märke_Mazda                   -4.179e+04  1.888e+04  -2.214 0.027334 *  \n",
       "`Märke_Mercedes-Benz`          4.535e+04  7.683e+03   5.902 7.05e-09 ***\n",
       "Märke_Mitsubishi              -2.802e+04  1.590e+04  -1.762 0.078779 .  \n",
       "Märke_Nissan                  -2.823e+04  1.028e+04  -2.745 0.006297 ** \n",
       "Märke_Renault                 -2.558e+04  1.106e+04  -2.312 0.021202 *  \n",
       "Märke_Seat                    -3.240e+04  1.383e+04  -2.343 0.019539 *  \n",
       "Märke_Toyota                  -1.487e+04  9.846e+03  -1.511 0.131611    \n",
       "Märke_Volkswagen              -1.149e+04  5.103e+03  -2.251 0.024844 *  \n",
       "---\n",
       "Signif. codes:  0 '***' 0.001 '**' 0.01 '*' 0.05 '.' 0.1 ' ' 1\n",
       "\n",
       "Residual standard error: 36960 on 451 degrees of freedom\n",
       "Multiple R-squared:  0.8101,\tAdjusted R-squared:  0.7991 \n",
       "F-statistic: 73.99 on 26 and 451 DF,  p-value: < 2.2e-16\n"
      ]
     },
     "metadata": {},
     "output_type": "display_data"
    },
    {
     "data": {
      "text/html": [
       "27"
      ],
      "text/latex": [
       "27"
      ],
      "text/markdown": [
       "27"
      ],
      "text/plain": [
       "[1] 27"
      ]
     },
     "metadata": {},
     "output_type": "display_data"
    }
   ],
   "source": [
    "# Perform backward stepwise selection\n",
    "car_data <- data.frame(X_train)\n",
    "names(car_data) <- names(X_train)\n",
    "car_data$Pris <- y_train\n",
    "\n",
    "full.model <- lm(Pris ~., data = car_data)\n",
    "step.model <- stepAIC(full.model, direction = \"backward\", \n",
    "                      trace = FALSE)\n",
    "summary(step.model)\n",
    "num_variables <- length(coefficients(step.model))\n",
    "num_variables"
   ]
  },
  {
   "cell_type": "code",
   "execution_count": 62,
   "id": "ccd669f3-45a1-40fd-8e71-f7d3d5d3303c",
   "metadata": {
    "scrolled": true
   },
   "outputs": [
    {
     "data": {
      "image/png": "[encoded data removed]",
      "text/plain": [
       "Plot with title \"\""
      ]
     },
     "metadata": {},
     "output_type": "display_data"
    }
   ],
   "source": [
    "# Final diagnostic plot\n",
    "par(mfrow = c(2, 2))\n",
    "plot(step.model)"
   ]
  },
  {
   "cell_type": "code",
   "execution_count": 63,
   "id": "e3080fca-bc0e-4f46-8d7f-1991b2cd61e3",
   "metadata": {},
   "outputs": [
    {
     "name": "stdout",
     "output_type": "stream",
     "text": [
      "[1] 42052.71\n"
     ]
    },
    {
     "data": {
      "text/html": [
       "236294.20661157"
      ],
      "text/latex": [
       "236294.20661157"
      ],
      "text/markdown": [
       "236294.20661157"
      ],
      "text/plain": [
       "[1] 236294.2"
      ]
     },
     "metadata": {},
     "output_type": "display_data"
    }
   ],
   "source": [
    "#Prediction on the test set\n",
    "predictions <- predict(step.model, newdata = X_test)\n",
    "rmse <- sqrt(mean((y_test - predictions)^2))\n",
    "print(rmse)\n",
    "mean(y_test)"
   ]
  },
  {
   "cell_type": "code",
   "execution_count": 64,
   "id": "c928fd64-1a7b-4121-a46e-9bb145a6a001",
   "metadata": {},
   "outputs": [
    {
     "data": {
      "text/html": [
       "<table>\n",
       "<thead><tr><th scope=col>Modellår</th><th scope=col>Hästkrafter</th><th scope=col>Län_Gotland</th><th scope=col>Län_Jönköping</th><th scope=col>Län_Kalmar</th><th scope=col>Län_Östergötland</th><th scope=col>Län_Skåne</th><th scope=col>Län_Stockholm</th><th scope=col>Län_Västra Götalands</th><th scope=col>Bränsle_Diesel</th><th scope=col>...</th><th scope=col>Märke_Nissan</th><th scope=col>Märke_Peugeot</th><th scope=col>Märke_Renault</th><th scope=col>Märke_Seat</th><th scope=col>Märke_Skoda</th><th scope=col>Märke_Subaru</th><th scope=col>Märke_Suzuki</th><th scope=col>Märke_Tesla</th><th scope=col>Märke_Toyota</th><th scope=col>Märke_Volkswagen</th></tr></thead>\n",
       "<tbody>\n",
       "\t<tr><td>2016</td><td>75  </td><td>0   </td><td>0   </td><td>0   </td><td>0   </td><td>0   </td><td>1   </td><td>0   </td><td>0   </td><td>... </td><td>0   </td><td>0   </td><td>0   </td><td>0   </td><td>0   </td><td>0   </td><td>0   </td><td>0   </td><td>0   </td><td>1   </td></tr>\n",
       "</tbody>\n",
       "</table>\n"
      ],
      "text/latex": [
       "\\begin{tabular}{r|lllllllllllllllllllllllllllllllllllllllllllllllllll}\n",
       " Modellår & Hästkrafter & Län\\_Gotland & Län\\_Jönköping & Län\\_Kalmar & Län\\_Östergötland & Län\\_Skåne & Län\\_Stockholm & Län\\_Västra Götalands & Bränsle\\_Diesel & ... & Märke\\_Nissan & Märke\\_Peugeot & Märke\\_Renault & Märke\\_Seat & Märke\\_Skoda & Märke\\_Subaru & Märke\\_Suzuki & Märke\\_Tesla & Märke\\_Toyota & Märke\\_Volkswagen\\\\\n",
       "\\hline\n",
       "\t 2016 & 75   & 0    & 0    & 0    & 0    & 0    & 1    & 0    & 0    & ...  & 0    & 0    & 0    & 0    & 0    & 0    & 0    & 0    & 0    & 1   \\\\\n",
       "\\end{tabular}\n"
      ],
      "text/markdown": [
       "\n",
       "| Modellår | Hästkrafter | Län_Gotland | Län_Jönköping | Län_Kalmar | Län_Östergötland | Län_Skåne | Län_Stockholm | Län_Västra Götalands | Bränsle_Diesel | ... | Märke_Nissan | Märke_Peugeot | Märke_Renault | Märke_Seat | Märke_Skoda | Märke_Subaru | Märke_Suzuki | Märke_Tesla | Märke_Toyota | Märke_Volkswagen |\n",
       "|---|---|---|---|---|---|---|---|---|---|---|---|---|---|---|---|---|---|---|---|---|\n",
       "| 2016 | 75   | 0    | 0    | 0    | 0    | 0    | 1    | 0    | 0    | ...  | 0    | 0    | 0    | 0    | 0    | 0    | 0    | 0    | 0    | 1    |\n",
       "\n"
      ],
      "text/plain": [
       "  Modellår Hästkrafter Län_Gotland Län_Jönköping Län_Kalmar Län_Östergötland\n",
       "1 2016     75          0           0             0          0               \n",
       "  Län_Skåne Län_Stockholm Län_Västra Götalands Bränsle_Diesel ... Märke_Nissan\n",
       "1 0         1             0                    0              ... 0           \n",
       "  Märke_Peugeot Märke_Renault Märke_Seat Märke_Skoda Märke_Subaru Märke_Suzuki\n",
       "1 0             0             0          0           0            0           \n",
       "  Märke_Tesla Märke_Toyota Märke_Volkswagen\n",
       "1 0           0            1               "
      ]
     },
     "metadata": {},
     "output_type": "display_data"
    },
    {
     "name": "stdout",
     "output_type": "stream",
     "text": [
      "    1 \n",
      "65418 \n"
     ]
    }
   ],
   "source": [
    "#Testing my own car with a value of 65-70k value in todays market\n",
    "my_car <- c(Modellår = 2016, Hästkrafter = 75, Län_Gotland = 0, Län_Jönköping = 0, \n",
    "            Län_Kalmar = 0, Län_Östergötland = 0, Län_Skåne = 0, Län_Stockholm = 1, \n",
    "            'Län_Västra Götalands' = 0, Bränsle_Diesel = 0, Bränsle_El = 0, \n",
    "            'Bränsle_Miljöbränsle/Hybrid' = 0, Växellåda_Manuell = 1, \n",
    "            Biltyp_Coupé = 0, Biltyp_Halvkombi = 1, Biltyp_Kombi = 0, Biltyp_Sedan = 0, Drivning_Tvåhjulsdriven = 1, \n",
    "            Färg_Brun = 0, Färg_Grå = 0, Färg_Grön = 0, Färg_Röd = 0, Färg_Silver = 0, \n",
    "            Färg_Svart = 0, Färg_Vit = 1, Märke_Audi = 0, Märke_BMW = 0, Märke_Citroën = 0, Märke_Cupra = 0, \n",
    "            Märke_Ford = 0, Märke_Honda = 0, Märke_Hyundai = 0, Märke_Jaguar = 0, Märke_Jeep = 0, \n",
    "            Märke_Kia = 0, 'Märke_Land Rover' = 0, Märke_Lexus = 0, Märke_Mazda = 0, 'Märke_Mercedes-Benz' = 0, Märke_MINI = 0, \n",
    "            Märke_Mitsubishi = 0, Märke_Nissan = 0, Märke_Peugeot = 0, Märke_Renault = 0, Märke_Seat = 0, Märke_Skoda = 0, \n",
    "            Märke_Subaru = 0, Märke_Suzuki = 0, Märke_Tesla = 0, Märke_Toyota = 0, Märke_Volkswagen = 1)\n",
    "\n",
    "my_car_df <- data.frame(t(my_car))\n",
    "names(my_car_df) <- names(my_car)\n",
    "my_car_df\n",
    "prediction_my_car <- predict(step.model, newdata = my_car_df)\n",
    "print(prediction_my_car)"
   ]
  }
 ],
 "metadata": {
  "kernelspec": {
   "display_name": "R",
   "language": "R",
   "name": "ir"
  },
  "language_info": {
   "codemirror_mode": "r",
   "file_extension": ".r",
   "mimetype": "text/x-r-source",
   "name": "R",
   "pygments_lexer": "r",
   "version": "3.6.1"
  }
 },
 "nbformat": 4,
 "nbformat_minor": 5
}
